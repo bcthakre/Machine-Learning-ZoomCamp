{
 "cells": [
  {
   "cell_type": "code",
   "execution_count": 1,
   "metadata": {},
   "outputs": [
    {
     "name": "stderr",
     "output_type": "stream",
     "text": [
      "2023/04/11 21:42:07 INFO mlflow.store.db.utils: Creating initial MLflow database tables...\n",
      "2023/04/11 21:42:07 INFO mlflow.store.db.utils: Updating database tables\n",
      "INFO  [alembic.runtime.migration] Context impl SQLiteImpl.\n",
      "INFO  [alembic.runtime.migration] Will assume non-transactional DDL.\n",
      "INFO  [alembic.runtime.migration] Context impl SQLiteImpl.\n",
      "INFO  [alembic.runtime.migration] Will assume non-transactional DDL.\n"
     ]
    }
   ],
   "source": [
    "from mlflow.tracking import MlflowClient\n",
    "\n",
    "MLFLOW_TRACKING_URI = \"sqlite:///mlflow.db\"\n",
    "\n",
    "client = MlflowClient(tracking_uri=MLFLOW_TRACKING_URI)"
   ]
  },
  {
   "cell_type": "code",
   "execution_count": 2,
   "metadata": {},
   "outputs": [
    {
     "data": {
      "text/plain": [
       "[<Experiment: artifact_location='/home/bcthakreda/mlops_zoomcamp/Machine-Learning-ZoomCamp/week2/mlruns/3', creation_time=1681079089707, experiment_id='3', last_update_time=1681079089707, lifecycle_stage='active', name='new_experiment', tags={}>,\n",
       " <Experiment: artifact_location='/home/bcthakreda/mlops_zoomcamp/Machine-Learning-ZoomCamp/week2/mlruns/2', creation_time=1679093170978, experiment_id='2', last_update_time=1679093170978, lifecycle_stage='active', name='nyc-taxi-exp-2', tags={}>,\n",
       " <Experiment: artifact_location='/home/bcthakreda/mlops_zoomcamp/Machine-Learning-ZoomCamp/week2/mlruns/0', creation_time=1679038858962, experiment_id='0', last_update_time=1679038858962, lifecycle_stage='active', name='Default', tags={}>]"
      ]
     },
     "execution_count": 2,
     "metadata": {},
     "output_type": "execute_result"
    }
   ],
   "source": [
    "client.search_experiments()"
   ]
  },
  {
   "cell_type": "code",
   "execution_count": 3,
   "metadata": {},
   "outputs": [
    {
     "data": {
      "text/plain": [
       "'4'"
      ]
     },
     "execution_count": 3,
     "metadata": {},
     "output_type": "execute_result"
    }
   ],
   "source": [
    "client.create_experiment(name=\"my_cool_experiment\")"
   ]
  },
  {
   "cell_type": "code",
   "execution_count": 3,
   "metadata": {},
   "outputs": [],
   "source": [
    "from mlflow.entities import ViewType\n",
    "\n",
    "runs = client.search_runs(\n",
    "    experiment_ids='2',\n",
    "    filter_string=\"metrics.rmse > 9.2\",\n",
    "    run_view_type=ViewType.ACTIVE_ONLY,\n",
    "    max_results=10,\n",
    "    order_by=[\"metrics.rmse ASC\"]\n",
    ")"
   ]
  },
  {
   "cell_type": "code",
   "execution_count": 4,
   "metadata": {},
   "outputs": [
    {
     "name": "stdout",
     "output_type": "stream",
     "text": [
      "run id : 534767ccc3c94d6fb48956aeeeb37d1d, rmse: 9.2944\n",
      "run id : 581e741490a14600ba5c99e1bf83a05b, rmse: 9.2944\n",
      "run id : 306434f011ac49468e2abbd3ce129148, rmse: 9.2944\n",
      "run id : 07da18a0ae7e485faacba12ad6e10174, rmse: 9.2944\n",
      "run id : 4544ddde4ff84dd5b2b538761c0e9c4c, rmse: 9.2944\n",
      "run id : 0c8012721fab45eeb2d9bdd7fc96f975, rmse: 9.2944\n",
      "run id : a164778026504870b8e87a1997e09ca4, rmse: 9.2944\n",
      "run id : f61f103bcaf84f57b178410edb4dcd41, rmse: 9.2944\n"
     ]
    }
   ],
   "source": [
    "for run in runs:\n",
    "    print(f\"run id : {run.info.run_id}, rmse: {run.data.metrics['rmse']:.4f}\")"
   ]
  },
  {
   "cell_type": "code",
   "execution_count": 5,
   "metadata": {},
   "outputs": [],
   "source": [
    "import mlflow\n",
    "\n",
    "mlflow.set_tracking_uri(MLFLOW_TRACKING_URI)"
   ]
  },
  {
   "cell_type": "code",
   "execution_count": 25,
   "metadata": {},
   "outputs": [
    {
     "name": "stderr",
     "output_type": "stream",
     "text": [
      "Registered model 'NY_TAXI_RECORDS' already exists. Creating a new version of this model...\n",
      "2023/04/11 00:26:09 INFO mlflow.tracking._model_registry.client: Waiting up to 300 seconds for model version to finish creation.                     Model name: NY_TAXI_RECORDS, version 4\n",
      "Created version '4' of model 'NY_TAXI_RECORDS'.\n"
     ]
    },
    {
     "data": {
      "text/plain": [
       "<ModelVersion: creation_timestamp=1681172769212, current_stage='None', description=None, last_updated_timestamp=1681172769212, name='NY_TAXI_RECORDS', run_id='306434f011ac49468e2abbd3ce129148', run_link=None, source='/home/bcthakreda/mlops_zoomcamp/Machine-Learning-ZoomCamp/week2/mlruns/2/306434f011ac49468e2abbd3ce129148/artifacts/model', status='READY', status_message=None, tags={}, user_id=None, version=4>"
      ]
     },
     "execution_count": 25,
     "metadata": {},
     "output_type": "execute_result"
    }
   ],
   "source": [
    "run_id=\"306434f011ac49468e2abbd3ce129148\"\n",
    "model_uri=f\"runs:/{run_id}/model\"\n",
    "mlflow.register_model(model_uri=model_uri,name=\"NY_TAXI_RECORDS\")"
   ]
  },
  {
   "cell_type": "code",
   "execution_count": 6,
   "metadata": {},
   "outputs": [
    {
     "name": "stderr",
     "output_type": "stream",
     "text": [
      "2023/04/11 21:42:42 INFO mlflow.store.db.utils: Creating initial MLflow database tables...\n",
      "2023/04/11 21:42:42 INFO mlflow.store.db.utils: Updating database tables\n",
      "INFO  [alembic.runtime.migration] Context impl SQLiteImpl.\n",
      "INFO  [alembic.runtime.migration] Will assume non-transactional DDL.\n"
     ]
    },
    {
     "data": {
      "text/plain": [
       "[<RegisteredModel: creation_timestamp=1681064923344, description='This is a New York City taxi register for trip duration', last_updated_timestamp=1681173098345, latest_versions=[<ModelVersion: creation_timestamp=1681172769212, current_stage='Staging', description=None, last_updated_timestamp=1681173098345, name='NY_TAXI_RECORDS', run_id='306434f011ac49468e2abbd3ce129148', run_link=None, source='/home/bcthakreda/mlops_zoomcamp/Machine-Learning-ZoomCamp/week2/mlruns/2/306434f011ac49468e2abbd3ce129148/artifacts/model', status='READY', status_message=None, tags={}, user_id=None, version=4>,\n",
       "  <ModelVersion: creation_timestamp=1681172716368, current_stage='None', description=None, last_updated_timestamp=1681172716368, name='NY_TAXI_RECORDS', run_id='306434f011ac49468e2abbd3ce129148', run_link=None, source='/home/bcthakreda/mlops_zoomcamp/Machine-Learning-ZoomCamp/week2/mlruns/2/306434f011ac49468e2abbd3ce129148/artifacts/model', status='READY', status_message=None, tags={}, user_id=None, version=3>], name='NY_TAXI_RECORDS', tags={}>]"
      ]
     },
     "execution_count": 6,
     "metadata": {},
     "output_type": "execute_result"
    }
   ],
   "source": [
    "client.search_registered_models()"
   ]
  },
  {
   "cell_type": "code",
   "execution_count": 7,
   "metadata": {},
   "outputs": [],
   "source": [
    "model_name=\"NY_TAXI_RECORDS\"\n",
    "latest_version = client.get_latest_versions(name=model_name)"
   ]
  },
  {
   "cell_type": "code",
   "execution_count": 8,
   "metadata": {},
   "outputs": [
    {
     "name": "stdout",
     "output_type": "stream",
     "text": [
      "version : 4 and stage: Staging\n",
      "version : 3 and stage: None\n"
     ]
    }
   ],
   "source": [
    "for version in latest_version:\n",
    "    print(f\"version : {version.version} and stage: {version.current_stage}\")"
   ]
  },
  {
   "cell_type": "code",
   "execution_count": 12,
   "metadata": {},
   "outputs": [
    {
     "data": {
      "text/plain": [
       "<ModelVersion: creation_timestamp=1681172769212, current_stage='Staging', description=('The model version <ModelVersion: creation_timestamp=1681172716368, '\n",
       " \"current_stage='None', description=None, \"\n",
       " \"last_updated_timestamp=1681172716368, name='NY_TAXI_RECORDS', \"\n",
       " \"run_id='306434f011ac49468e2abbd3ce129148', run_link=None, \"\n",
       " \"source='/home/bcthakreda/mlops_zoomcamp/Machine-Learning-ZoomCamp/week2/mlruns/2/306434f011ac49468e2abbd3ce129148/artifacts/model', \"\n",
       " \"status='READY', status_message=None, tags={}, user_id=None, version=3> was \"\n",
       " 'transitioned to staging'), last_updated_timestamp=1681249512174, name='NY_TAXI_RECORDS', run_id='306434f011ac49468e2abbd3ce129148', run_link=None, source='/home/bcthakreda/mlops_zoomcamp/Machine-Learning-ZoomCamp/week2/mlruns/2/306434f011ac49468e2abbd3ce129148/artifacts/model', status='READY', status_message=None, tags={}, user_id=None, version=4>"
      ]
     },
     "execution_count": 12,
     "metadata": {},
     "output_type": "execute_result"
    }
   ],
   "source": [
    "model_version=4\n",
    "new_version=\"staging\"\n",
    "\n",
    "client.transition_model_version_stage(\n",
    "    name=model_name,\n",
    "    version=model_version,\n",
    "    stage='Staging',\n",
    "    archive_existing_versions=False\n",
    ")"
   ]
  },
  {
   "cell_type": "code",
   "execution_count": 13,
   "metadata": {},
   "outputs": [
    {
     "data": {
      "text/plain": [
       "<ModelVersion: creation_timestamp=1681172769212, current_stage='Staging', description='The model version 4 was transitioned to staging', last_updated_timestamp=1681249513119, name='NY_TAXI_RECORDS', run_id='306434f011ac49468e2abbd3ce129148', run_link=None, source='/home/bcthakreda/mlops_zoomcamp/Machine-Learning-ZoomCamp/week2/mlruns/2/306434f011ac49468e2abbd3ce129148/artifacts/model', status='READY', status_message=None, tags={}, user_id=None, version=4>"
      ]
     },
     "execution_count": 13,
     "metadata": {},
     "output_type": "execute_result"
    }
   ],
   "source": [
    "client.update_model_version(\n",
    "    name=model_name,\n",
    "    version=4,\n",
    "    description=f\"The model version {model_version} was transitioned to {new_version}\"\n",
    ")"
   ]
  },
  {
   "cell_type": "code",
   "execution_count": 18,
   "metadata": {},
   "outputs": [
    {
     "data": {
      "text/plain": [
       "<ModelVersion: creation_timestamp=1681172769212, current_stage='Staging', description='The model version 4 was transitioned to staging on date 2023-04-11', last_updated_timestamp=1681249694913, name='NY_TAXI_RECORDS', run_id='306434f011ac49468e2abbd3ce129148', run_link=None, source='/home/bcthakreda/mlops_zoomcamp/Machine-Learning-ZoomCamp/week2/mlruns/2/306434f011ac49468e2abbd3ce129148/artifacts/model', status='READY', status_message=None, tags={}, user_id=None, version=4>"
      ]
     },
     "execution_count": 18,
     "metadata": {},
     "output_type": "execute_result"
    }
   ],
   "source": [
    "from datetime import datetime\n",
    "date = datetime.today().date()\n",
    "\n",
    "client.update_model_version(\n",
    "    name=model_name,\n",
    "    version=model_version,\n",
    "    description=f\"The model version {model_version} was transitioned to {new_version} on date {date}\"\n",
    ")"
   ]
  },
  {
   "cell_type": "code",
   "execution_count": 19,
   "metadata": {},
   "outputs": [
    {
     "data": {
      "text/plain": [
       "<ModelVersion: creation_timestamp=1681172769212, current_stage='Production', description='The model version 4 was transitioned to staging on date 2023-04-11', last_updated_timestamp=1681250720779, name='NY_TAXI_RECORDS', run_id='306434f011ac49468e2abbd3ce129148', run_link=None, source='/home/bcthakreda/mlops_zoomcamp/Machine-Learning-ZoomCamp/week2/mlruns/2/306434f011ac49468e2abbd3ce129148/artifacts/model', status='READY', status_message=None, tags={}, user_id=None, version=4>"
      ]
     },
     "execution_count": 19,
     "metadata": {},
     "output_type": "execute_result"
    }
   ],
   "source": [
    "model_version=4\n",
    "new_stage=\"production\"\n",
    "\n",
    "client.transition_model_version_stage(\n",
    "    name=model_name,\n",
    "    version=model_version,\n",
    "    stage=new_stage,\n",
    "    archive_existing_versions=False\n",
    ")"
   ]
  },
  {
   "cell_type": "code",
   "execution_count": 20,
   "metadata": {},
   "outputs": [
    {
     "data": {
      "text/plain": [
       "<ModelVersion: creation_timestamp=1681172769212, current_stage='Production', description='The model stage staging was transitioned to production on date 2023-04-11', last_updated_timestamp=1681250806610, name='NY_TAXI_RECORDS', run_id='306434f011ac49468e2abbd3ce129148', run_link=None, source='/home/bcthakreda/mlops_zoomcamp/Machine-Learning-ZoomCamp/week2/mlruns/2/306434f011ac49468e2abbd3ce129148/artifacts/model', status='READY', status_message=None, tags={}, user_id=None, version=4>"
      ]
     },
     "execution_count": 20,
     "metadata": {},
     "output_type": "execute_result"
    }
   ],
   "source": [
    "old_model_stage=\"staging\"\n",
    "new_model_stage=\"production\"\n",
    "date = datetime.today().date()\n",
    "client.update_model_version(\n",
    "    name=model_name,\n",
    "    version=model_version,\n",
    "    description=f\"The model stage {old_model_stage} was transitioned to {new_model_stage} on date {date}\"\n",
    ")"
   ]
  },
  {
   "attachments": {},
   "cell_type": "markdown",
   "metadata": {},
   "source": [
    "How to use new data as test to run on the model"
   ]
  },
  {
   "cell_type": "markdown",
   "metadata": {},
   "source": []
  },
  {
   "cell_type": "code",
   "execution_count": 22,
   "metadata": {},
   "outputs": [],
   "source": [
    "import pandas as pd \n",
    "from sklearn.metrics import mean_squared_error\n",
    "\n",
    "def read_dataframe(filename):\n",
    "    if filename.endswith('.csv'):\n",
    "        df = pd.read_csv(filename)\n",
    "\n",
    "        df.lpep_dropoff_datetime = pd.to_datetime(df.lpep_dropoff_datetime)\n",
    "        df.lpep_pickup_datetime = pd.to_datetime(df.lpep_pickup_datetime)\n",
    "    elif filename.endswith('.parquet'):\n",
    "        df = pd.read_parquet(filename)\n",
    "\n",
    "    df['duration'] = df.tpep_dropoff_datetime - df.tpep_pickup_datetime\n",
    "    df.duration = df.duration.apply(lambda td: td.total_seconds() / 60)\n",
    "\n",
    "    df = df[(df.duration >= 1) & (df.duration <= 60)]\n",
    "\n",
    "    categorical = ['PULocationID', 'DOLocationID']\n",
    "    df[categorical] = df[categorical].astype(str)\n",
    "    \n",
    "    return df\n",
    "\n",
    "def preprocess(df,dv):\n",
    "    df['PU_DO'] = df['PULocationID'] + '_' + df['DOLocationID']\n",
    "    categorical = ['PU_DO'] #'PULocationID', 'DOLocationID']\n",
    "    numerical = ['trip_distance']\n",
    "    train_dicts = df[categorical + numerical].to_dict(orient='records')\n",
    "    return dv.transform(train_dicts)\n",
    "\n",
    "def test_model(name,stage,X_test,y_test):\n",
    "    model = mlflow.pyfunc.load_model(f\"models:/{name}/{stage}\")\n",
    "    y_pred = model.predict(X_test)\n",
    "    return {\"rmse\" : mean_squared_error(y_test,y_pred,squared=False)}\n",
    "\n",
    "\n",
    "\n"
   ]
  },
  {
   "cell_type": "code",
   "execution_count": 23,
   "metadata": {},
   "outputs": [],
   "source": [
    "df = read_dataframe('/home/bcthakreda/mlops_zoomcamp/Machine-Learning-ZoomCamp/week1/data/yellow_tripdata_2021-03.parquet')"
   ]
  },
  {
   "cell_type": "code",
   "execution_count": 39,
   "metadata": {},
   "outputs": [
    {
     "name": "stderr",
     "output_type": "stream",
     "text": [
      "/tmp/ipykernel_27619/1189371463.py:1: FutureWarning: ``mlflow.tracking.client.MlflowClient.download_artifacts`` is deprecated since 2.0. This method will be removed in a future release. Use ``mlflow.artifacts.download_artifacts`` instead.\n",
      "  client.download_artifacts(path='preprocessor',dst_path='.',run_id='cfb3df973e23455d96aba47d03cfe2b0')\n"
     ]
    },
    {
     "data": {
      "text/plain": [
       "'/home/bcthakreda/mlops_zoomcamp/Machine-Learning-ZoomCamp/week2/preprocessor'"
      ]
     },
     "execution_count": 39,
     "metadata": {},
     "output_type": "execute_result"
    }
   ],
   "source": [
    "client.download_artifacts(path='preprocessor',dst_path='.',run_id='cfb3df973e23455d96aba47d03cfe2b0')"
   ]
  },
  {
   "cell_type": "code",
   "execution_count": 29,
   "metadata": {},
   "outputs": [],
   "source": [
    "import pickle\n",
    "with open(\"preprocessor/preprocessor.b\",\"rb\")  as f_in:\n",
    "    dv=pickle.load(f_in)"
   ]
  },
  {
   "cell_type": "code",
   "execution_count": 31,
   "metadata": {},
   "outputs": [],
   "source": [
    "X_test = preprocess(df,dv)"
   ]
  },
  {
   "cell_type": "code",
   "execution_count": 32,
   "metadata": {},
   "outputs": [],
   "source": [
    "target = \"duration\"\n",
    "y_test = df[target].values"
   ]
  },
  {
   "cell_type": "code",
   "execution_count": 33,
   "metadata": {},
   "outputs": [
    {
     "data": {
      "text/plain": [
       "'NY_TAXI_RECORDS'"
      ]
     },
     "execution_count": 33,
     "metadata": {},
     "output_type": "execute_result"
    }
   ],
   "source": [
    "model_name"
   ]
  },
  {
   "cell_type": "code",
   "execution_count": 37,
   "metadata": {},
   "outputs": [
    {
     "name": "stderr",
     "output_type": "stream",
     "text": [
      "2023/04/11 22:30:25 WARNING mlflow.pyfunc: Detected one or more mismatches between the model's dependencies and the current Python environment:\n",
      " - pandas (current: 2.0.0, required: pandas==1.5.3)\n",
      " - psutil (current: 5.9.0, required: psutil==5.9.4)\n",
      " - xgboost (current: uninstalled, required: xgboost==1.7.4)\n",
      "To fix the mismatches, call `mlflow.pyfunc.get_model_dependencies(model_uri)` to fetch the model's environment and install dependencies using the resulting environment file.\n"
     ]
    },
    {
     "ename": "ModuleNotFoundError",
     "evalue": "No module named 'xgboost'",
     "output_type": "error",
     "traceback": [
      "\u001b[0;31m---------------------------------------------------------------------------\u001b[0m",
      "\u001b[0;31mModuleNotFoundError\u001b[0m                       Traceback (most recent call last)",
      "File \u001b[0;32m<timed eval>:1\u001b[0m\n",
      "Cell \u001b[0;32mIn[22], line 31\u001b[0m, in \u001b[0;36mtest_model\u001b[0;34m(name, stage, X_test, y_test)\u001b[0m\n\u001b[1;32m     30\u001b[0m \u001b[39mdef\u001b[39;00m \u001b[39mtest_model\u001b[39m(name,stage,X_test,y_test):\n\u001b[0;32m---> 31\u001b[0m     model \u001b[39m=\u001b[39m mlflow\u001b[39m.\u001b[39;49mpyfunc\u001b[39m.\u001b[39;49mload_model(\u001b[39mf\u001b[39;49m\u001b[39m\"\u001b[39;49m\u001b[39mmodels:/\u001b[39;49m\u001b[39m{\u001b[39;49;00mname\u001b[39m}\u001b[39;49;00m\u001b[39m/\u001b[39;49m\u001b[39m{\u001b[39;49;00mstage\u001b[39m}\u001b[39;49;00m\u001b[39m\"\u001b[39;49m)\n\u001b[1;32m     32\u001b[0m     y_pred \u001b[39m=\u001b[39m model\u001b[39m.\u001b[39mpredict(X_test)\n\u001b[1;32m     33\u001b[0m     \u001b[39mreturn\u001b[39;00m {\u001b[39m\"\u001b[39m\u001b[39mrmse\u001b[39m\u001b[39m\"\u001b[39m : mean_squared_error(y_test,y_pred,squared\u001b[39m=\u001b[39m\u001b[39mFalse\u001b[39;00m)}\n",
      "File \u001b[0;32m~/anaconda3/envs/my_mlflow_env/lib/python3.9/site-packages/mlflow/pyfunc/__init__.py:582\u001b[0m, in \u001b[0;36mload_model\u001b[0;34m(model_uri, suppress_warnings, dst_path)\u001b[0m\n\u001b[1;32m    580\u001b[0m _add_code_from_conf_to_system_path(local_path, conf, code_key\u001b[39m=\u001b[39mCODE)\n\u001b[1;32m    581\u001b[0m data_path \u001b[39m=\u001b[39m os\u001b[39m.\u001b[39mpath\u001b[39m.\u001b[39mjoin(local_path, conf[DATA]) \u001b[39mif\u001b[39;00m (DATA \u001b[39min\u001b[39;00m conf) \u001b[39melse\u001b[39;00m local_path\n\u001b[0;32m--> 582\u001b[0m model_impl \u001b[39m=\u001b[39m importlib\u001b[39m.\u001b[39;49mimport_module(conf[MAIN])\u001b[39m.\u001b[39;49m_load_pyfunc(data_path)\n\u001b[1;32m    583\u001b[0m predict_fn \u001b[39m=\u001b[39m conf\u001b[39m.\u001b[39mget(\u001b[39m\"\u001b[39m\u001b[39mpredict_fn\u001b[39m\u001b[39m\"\u001b[39m, \u001b[39m\"\u001b[39m\u001b[39mpredict\u001b[39m\u001b[39m\"\u001b[39m)\n\u001b[1;32m    584\u001b[0m \u001b[39mreturn\u001b[39;00m PyFuncModel(model_meta\u001b[39m=\u001b[39mmodel_meta, model_impl\u001b[39m=\u001b[39mmodel_impl, predict_fn\u001b[39m=\u001b[39mpredict_fn)\n",
      "File \u001b[0;32m~/anaconda3/envs/my_mlflow_env/lib/python3.9/site-packages/mlflow/xgboost/__init__.py:333\u001b[0m, in \u001b[0;36m_load_pyfunc\u001b[0;34m(path)\u001b[0m\n\u001b[1;32m    327\u001b[0m \u001b[39mdef\u001b[39;00m \u001b[39m_load_pyfunc\u001b[39m(path):\n\u001b[1;32m    328\u001b[0m \u001b[39m    \u001b[39m\u001b[39m\"\"\"\u001b[39;00m\n\u001b[1;32m    329\u001b[0m \u001b[39m    Load PyFunc implementation. Called by ``pyfunc.load_model``.\u001b[39;00m\n\u001b[1;32m    330\u001b[0m \n\u001b[1;32m    331\u001b[0m \u001b[39m    :param path: Local filesystem path to the MLflow Model with the ``xgboost`` flavor.\u001b[39;00m\n\u001b[1;32m    332\u001b[0m \u001b[39m    \"\"\"\u001b[39;00m\n\u001b[0;32m--> 333\u001b[0m     \u001b[39mreturn\u001b[39;00m _XGBModelWrapper(_load_model(path))\n",
      "File \u001b[0;32m~/anaconda3/envs/my_mlflow_env/lib/python3.9/site-packages/mlflow/xgboost/__init__.py:322\u001b[0m, in \u001b[0;36m_load_model\u001b[0;34m(path)\u001b[0m\n\u001b[1;32m    319\u001b[0m model_class \u001b[39m=\u001b[39m flavor_conf\u001b[39m.\u001b[39mget(\u001b[39m\"\u001b[39m\u001b[39mmodel_class\u001b[39m\u001b[39m\"\u001b[39m, \u001b[39m\"\u001b[39m\u001b[39mxgboost.core.Booster\u001b[39m\u001b[39m\"\u001b[39m)\n\u001b[1;32m    320\u001b[0m xgb_model_path \u001b[39m=\u001b[39m os\u001b[39m.\u001b[39mpath\u001b[39m.\u001b[39mjoin(model_dir, flavor_conf\u001b[39m.\u001b[39mget(\u001b[39m\"\u001b[39m\u001b[39mdata\u001b[39m\u001b[39m\"\u001b[39m))\n\u001b[0;32m--> 322\u001b[0m model \u001b[39m=\u001b[39m _get_class_from_string(model_class)()\n\u001b[1;32m    323\u001b[0m model\u001b[39m.\u001b[39mload_model(xgb_model_path)\n\u001b[1;32m    324\u001b[0m \u001b[39mreturn\u001b[39;00m model\n",
      "File \u001b[0;32m~/anaconda3/envs/my_mlflow_env/lib/python3.9/site-packages/mlflow/utils/class_utils.py:6\u001b[0m, in \u001b[0;36m_get_class_from_string\u001b[0;34m(fully_qualified_class_name)\u001b[0m\n\u001b[1;32m      4\u001b[0m \u001b[39mdef\u001b[39;00m \u001b[39m_get_class_from_string\u001b[39m(fully_qualified_class_name):\n\u001b[1;32m      5\u001b[0m     module, class_name \u001b[39m=\u001b[39m fully_qualified_class_name\u001b[39m.\u001b[39mrsplit(\u001b[39m\"\u001b[39m\u001b[39m.\u001b[39m\u001b[39m\"\u001b[39m, maxsplit\u001b[39m=\u001b[39m\u001b[39m1\u001b[39m)\n\u001b[0;32m----> 6\u001b[0m     \u001b[39mreturn\u001b[39;00m \u001b[39mgetattr\u001b[39m(importlib\u001b[39m.\u001b[39;49mimport_module(module), class_name)\n",
      "File \u001b[0;32m~/anaconda3/envs/my_mlflow_env/lib/python3.9/importlib/__init__.py:127\u001b[0m, in \u001b[0;36mimport_module\u001b[0;34m(name, package)\u001b[0m\n\u001b[1;32m    125\u001b[0m             \u001b[39mbreak\u001b[39;00m\n\u001b[1;32m    126\u001b[0m         level \u001b[39m+\u001b[39m\u001b[39m=\u001b[39m \u001b[39m1\u001b[39m\n\u001b[0;32m--> 127\u001b[0m \u001b[39mreturn\u001b[39;00m _bootstrap\u001b[39m.\u001b[39;49m_gcd_import(name[level:], package, level)\n",
      "File \u001b[0;32m<frozen importlib._bootstrap>:1030\u001b[0m, in \u001b[0;36m_gcd_import\u001b[0;34m(name, package, level)\u001b[0m\n",
      "File \u001b[0;32m<frozen importlib._bootstrap>:1007\u001b[0m, in \u001b[0;36m_find_and_load\u001b[0;34m(name, import_)\u001b[0m\n",
      "File \u001b[0;32m<frozen importlib._bootstrap>:972\u001b[0m, in \u001b[0;36m_find_and_load_unlocked\u001b[0;34m(name, import_)\u001b[0m\n",
      "File \u001b[0;32m<frozen importlib._bootstrap>:228\u001b[0m, in \u001b[0;36m_call_with_frames_removed\u001b[0;34m(f, *args, **kwds)\u001b[0m\n",
      "File \u001b[0;32m<frozen importlib._bootstrap>:1030\u001b[0m, in \u001b[0;36m_gcd_import\u001b[0;34m(name, package, level)\u001b[0m\n",
      "File \u001b[0;32m<frozen importlib._bootstrap>:1007\u001b[0m, in \u001b[0;36m_find_and_load\u001b[0;34m(name, import_)\u001b[0m\n",
      "File \u001b[0;32m<frozen importlib._bootstrap>:984\u001b[0m, in \u001b[0;36m_find_and_load_unlocked\u001b[0;34m(name, import_)\u001b[0m\n",
      "\u001b[0;31mModuleNotFoundError\u001b[0m: No module named 'xgboost'"
     ]
    }
   ],
   "source": [
    "%time test_model(name=model_name,stage=\"Staging\",X_test=X_test,y_test=y_test)"
   ]
  },
  {
   "cell_type": "markdown",
   "metadata": {},
   "source": []
  },
  {
   "cell_type": "code",
   "execution_count": null,
   "metadata": {},
   "outputs": [],
   "source": []
  }
 ],
 "metadata": {
  "kernelspec": {
   "display_name": "experiment-tracking",
   "language": "python",
   "name": "python3"
  },
  "language_info": {
   "codemirror_mode": {
    "name": "ipython",
    "version": 3
   },
   "file_extension": ".py",
   "mimetype": "text/x-python",
   "name": "python",
   "nbconvert_exporter": "python",
   "pygments_lexer": "ipython3",
   "version": "3.9.16"
  },
  "orig_nbformat": 4
 },
 "nbformat": 4,
 "nbformat_minor": 2
}
