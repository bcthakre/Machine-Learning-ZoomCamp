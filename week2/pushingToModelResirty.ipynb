{
 "cells": [
  {
   "cell_type": "code",
   "execution_count": 1,
   "metadata": {},
   "outputs": [
    {
     "name": "stderr",
     "output_type": "stream",
     "text": [
      "2023/04/10 23:42:42 INFO mlflow.store.db.utils: Creating initial MLflow database tables...\n",
      "2023/04/10 23:42:42 INFO mlflow.store.db.utils: Updating database tables\n",
      "INFO  [alembic.runtime.migration] Context impl SQLiteImpl.\n",
      "INFO  [alembic.runtime.migration] Will assume non-transactional DDL.\n",
      "INFO  [alembic.runtime.migration] Context impl SQLiteImpl.\n",
      "INFO  [alembic.runtime.migration] Will assume non-transactional DDL.\n"
     ]
    }
   ],
   "source": [
    "from mlflow.tracking import MlflowClient\n",
    "\n",
    "MLFLOW_TRACKING_URI = \"sqlite:///mlflow.db\"\n",
    "\n",
    "client = MlflowClient(tracking_uri=MLFLOW_TRACKING_URI)"
   ]
  },
  {
   "cell_type": "code",
   "execution_count": 2,
   "metadata": {},
   "outputs": [
    {
     "data": {
      "text/plain": [
       "[<Experiment: artifact_location='/home/bcthakreda/mlops_zoomcamp/Machine-Learning-ZoomCamp/week2/mlruns/3', creation_time=1681079089707, experiment_id='3', last_update_time=1681079089707, lifecycle_stage='active', name='new_experiment', tags={}>,\n",
       " <Experiment: artifact_location='/home/bcthakreda/mlops_zoomcamp/Machine-Learning-ZoomCamp/week2/mlruns/2', creation_time=1679093170978, experiment_id='2', last_update_time=1679093170978, lifecycle_stage='active', name='nyc-taxi-exp-2', tags={}>,\n",
       " <Experiment: artifact_location='/home/bcthakreda/mlops_zoomcamp/Machine-Learning-ZoomCamp/week2/mlruns/0', creation_time=1679038858962, experiment_id='0', last_update_time=1679038858962, lifecycle_stage='active', name='Default', tags={}>]"
      ]
     },
     "execution_count": 2,
     "metadata": {},
     "output_type": "execute_result"
    }
   ],
   "source": [
    "client.search_experiments()"
   ]
  },
  {
   "cell_type": "code",
   "execution_count": 3,
   "metadata": {},
   "outputs": [
    {
     "data": {
      "text/plain": [
       "'4'"
      ]
     },
     "execution_count": 3,
     "metadata": {},
     "output_type": "execute_result"
    }
   ],
   "source": [
    "client.create_experiment(name=\"my_cool_experiment\")"
   ]
  },
  {
   "cell_type": "code",
   "execution_count": 23,
   "metadata": {},
   "outputs": [],
   "source": [
    "from mlflow.entities import ViewType\n",
    "\n",
    "runs = client.search_runs(\n",
    "    experiment_ids='2',\n",
    "    filter_string=\"metrics.rmse > 9.2\",\n",
    "    run_view_type=ViewType.ACTIVE_ONLY,\n",
    "    max_results=10,\n",
    "    order_by=[\"metrics.rmse ASC\"]\n",
    ")"
   ]
  },
  {
   "cell_type": "code",
   "execution_count": 24,
   "metadata": {},
   "outputs": [
    {
     "name": "stdout",
     "output_type": "stream",
     "text": [
      "run id : 534767ccc3c94d6fb48956aeeeb37d1d, rmse: 9.2944\n",
      "run id : 581e741490a14600ba5c99e1bf83a05b, rmse: 9.2944\n",
      "run id : 306434f011ac49468e2abbd3ce129148, rmse: 9.2944\n",
      "run id : 07da18a0ae7e485faacba12ad6e10174, rmse: 9.2944\n",
      "run id : 4544ddde4ff84dd5b2b538761c0e9c4c, rmse: 9.2944\n",
      "run id : 0c8012721fab45eeb2d9bdd7fc96f975, rmse: 9.2944\n",
      "run id : a164778026504870b8e87a1997e09ca4, rmse: 9.2944\n",
      "run id : f61f103bcaf84f57b178410edb4dcd41, rmse: 9.2944\n"
     ]
    }
   ],
   "source": [
    "for run in runs:\n",
    "    print(f\"run id : {run.info.run_id}, rmse: {run.data.metrics['rmse']:.4f}\")"
   ]
  },
  {
   "cell_type": "code",
   "execution_count": 17,
   "metadata": {},
   "outputs": [],
   "source": [
    "import mlflow\n",
    "\n",
    "mlflow.set_tracking_uri(MLFLOW_TRACKING_URI)"
   ]
  },
  {
   "cell_type": "code",
   "execution_count": 25,
   "metadata": {},
   "outputs": [
    {
     "name": "stderr",
     "output_type": "stream",
     "text": [
      "Registered model 'NY_TAXI_RECORDS' already exists. Creating a new version of this model...\n",
      "2023/04/11 00:26:09 INFO mlflow.tracking._model_registry.client: Waiting up to 300 seconds for model version to finish creation.                     Model name: NY_TAXI_RECORDS, version 4\n",
      "Created version '4' of model 'NY_TAXI_RECORDS'.\n"
     ]
    },
    {
     "data": {
      "text/plain": [
       "<ModelVersion: creation_timestamp=1681172769212, current_stage='None', description=None, last_updated_timestamp=1681172769212, name='NY_TAXI_RECORDS', run_id='306434f011ac49468e2abbd3ce129148', run_link=None, source='/home/bcthakreda/mlops_zoomcamp/Machine-Learning-ZoomCamp/week2/mlruns/2/306434f011ac49468e2abbd3ce129148/artifacts/model', status='READY', status_message=None, tags={}, user_id=None, version=4>"
      ]
     },
     "execution_count": 25,
     "metadata": {},
     "output_type": "execute_result"
    }
   ],
   "source": [
    "run_id=\"306434f011ac49468e2abbd3ce129148\"\n",
    "model_uri=f\"runs:/{run_id}/model\"\n",
    "mlflow.register_model(model_uri=model_uri,name=\"NY_TAXI_RECORDS\")"
   ]
  },
  {
   "cell_type": "code",
   "execution_count": 26,
   "metadata": {},
   "outputs": [
    {
     "data": {
      "text/plain": [
       "[<RegisteredModel: creation_timestamp=1681064923344, description='This is a New York City taxi register for trip duration', last_updated_timestamp=1681172769212, latest_versions=[<ModelVersion: creation_timestamp=1681064946524, current_stage='Staging', description='', last_updated_timestamp=1681065175700, name='NY_TAXI_RECORDS', run_id='6472f5a099ba434ba461a1f31b9db289', run_link='', source='/home/bcthakreda/mlops_zoomcamp/Machine-Learning-ZoomCamp/week2/mlruns/2/6472f5a099ba434ba461a1f31b9db289/artifacts/models_lin_reg', status='READY', status_message=None, tags={'model': 'xgboost'}, user_id=None, version=2>,\n",
       "  <ModelVersion: creation_timestamp=1681172769212, current_stage='None', description=None, last_updated_timestamp=1681172769212, name='NY_TAXI_RECORDS', run_id='306434f011ac49468e2abbd3ce129148', run_link=None, source='/home/bcthakreda/mlops_zoomcamp/Machine-Learning-ZoomCamp/week2/mlruns/2/306434f011ac49468e2abbd3ce129148/artifacts/model', status='READY', status_message=None, tags={}, user_id=None, version=4>], name='NY_TAXI_RECORDS', tags={}>]"
      ]
     },
     "execution_count": 26,
     "metadata": {},
     "output_type": "execute_result"
    }
   ],
   "source": [
    "client.search_registered_models()"
   ]
  },
  {
   "cell_type": "code",
   "execution_count": 28,
   "metadata": {},
   "outputs": [],
   "source": [
    "model_name=\"NY_TAXI_RECORDS\"\n",
    "latest_version = client.get_latest_versions(name=model_name)"
   ]
  },
  {
   "cell_type": "code",
   "execution_count": 29,
   "metadata": {},
   "outputs": [
    {
     "name": "stdout",
     "output_type": "stream",
     "text": [
      "version : 2 and stage: Staging\n",
      "version : 4 and stage: None\n"
     ]
    }
   ],
   "source": [
    "for version in latest_version:\n",
    "    print(f\"version : {version.version} and stage: {version.current_stage}\")"
   ]
  },
  {
   "cell_type": "code",
   "execution_count": 30,
   "metadata": {},
   "outputs": [
    {
     "data": {
      "text/plain": [
       "<ModelVersion: creation_timestamp=1681172769212, current_stage='Staging', description=None, last_updated_timestamp=1681173098345, name='NY_TAXI_RECORDS', run_id='306434f011ac49468e2abbd3ce129148', run_link=None, source='/home/bcthakreda/mlops_zoomcamp/Machine-Learning-ZoomCamp/week2/mlruns/2/306434f011ac49468e2abbd3ce129148/artifacts/model', status='READY', status_message=None, tags={}, user_id=None, version=4>"
      ]
     },
     "execution_count": 30,
     "metadata": {},
     "output_type": "execute_result"
    }
   ],
   "source": [
    "client.transition_model_version_stage(\n",
    "    name=model_name,\n",
    "    version=4,\n",
    "    stage='Staging',\n",
    "    archive_existing_versions=False\n",
    ")"
   ]
  },
  {
   "cell_type": "code",
   "execution_count": null,
   "metadata": {},
   "outputs": [],
   "source": []
  }
 ],
 "metadata": {
  "kernelspec": {
   "display_name": "experiment-tracking",
   "language": "python",
   "name": "python3"
  },
  "language_info": {
   "codemirror_mode": {
    "name": "ipython",
    "version": 3
   },
   "file_extension": ".py",
   "mimetype": "text/x-python",
   "name": "python",
   "nbconvert_exporter": "python",
   "pygments_lexer": "ipython3",
   "version": "3.9.16"
  },
  "orig_nbformat": 4
 },
 "nbformat": 4,
 "nbformat_minor": 2
}
