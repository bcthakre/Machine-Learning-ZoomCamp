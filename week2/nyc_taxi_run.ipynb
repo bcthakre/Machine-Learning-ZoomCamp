{
 "cells": [
  {
   "cell_type": "code",
   "execution_count": 1,
   "metadata": {},
   "outputs": [],
   "source": [
    "import pandas as pd\n",
    "import os\n",
    "import pickle\n",
    "import seaborn as sns\n",
    "import matplotlib.pyplot as plt\n",
    "from sklearn.feature_extraction import DictVectorizer\n",
    "from sklearn.linear_model import LinearRegression\n",
    "from sklearn.linear_model import Lasso\n",
    "from sklearn.linear_model import Ridge\n",
    "\n",
    "from sklearn.metrics import mean_squared_error"
   ]
  },
  {
   "cell_type": "code",
   "execution_count": 2,
   "metadata": {},
   "outputs": [
    {
     "name": "stdout",
     "output_type": "stream",
     "text": [
      "mlflow is already installed.\n"
     ]
    }
   ],
   "source": [
    "import importlib\n",
    "\n",
    "package_name = \"mlflow\"\n",
    "try:\n",
    "    importlib.import_module(package_name)\n",
    "    print(f\"{package_name} is already installed.\")\n",
    "except ModuleNotFoundError:\n",
    "    print(f\"{package_name} not found. Installing...\")\n",
    "    %pip install {package_name}\n"
   ]
  },
  {
   "cell_type": "code",
   "execution_count": 3,
   "metadata": {},
   "outputs": [],
   "source": [
    "def read_dataframe(filename):\n",
    "    if filename.endswith('.csv'):\n",
    "        df = pd.read_csv(filename)\n",
    "\n",
    "        df.lpep_dropoff_datetime = pd.to_datetime(df.lpep_dropoff_datetime)\n",
    "        df.lpep_pickup_datetime = pd.to_datetime(df.lpep_pickup_datetime)\n",
    "    elif filename.endswith('.parquet'):\n",
    "        df = pd.read_parquet(filename)\n",
    "\n",
    "    df['duration'] = df.tpep_dropoff_datetime - df.tpep_pickup_datetime\n",
    "    df.duration = df.duration.apply(lambda td: td.total_seconds() / 60)\n",
    "\n",
    "    df = df[(df.duration >= 1) & (df.duration <= 60)]\n",
    "\n",
    "    categorical = ['PULocationID', 'DOLocationID']\n",
    "    df[categorical] = df[categorical].astype(str)\n",
    "    \n",
    "    return df"
   ]
  },
  {
   "cell_type": "code",
   "execution_count": 4,
   "metadata": {},
   "outputs": [],
   "source": [
    "df_train = read_dataframe('/home/bcthakreda/mlops_zoomcamp/Machine-Learning-ZoomCamp/week1/data/yellow_tripdata_2021-01.parquet')\n",
    "df_val = read_dataframe('/home/bcthakreda/mlops_zoomcamp/Machine-Learning-ZoomCamp/week1/data/yellow_tripdata_2021-02.parquet')"
   ]
  },
  {
   "cell_type": "code",
   "execution_count": 5,
   "metadata": {},
   "outputs": [],
   "source": [
    "df_train['PU_DO'] = df_train['PULocationID'] + '_' + df_train['DOLocationID']\n",
    "df_val['PU_DO'] = df_val['PULocationID'] + '_' + df_val['DOLocationID']"
   ]
  },
  {
   "cell_type": "code",
   "execution_count": 6,
   "metadata": {},
   "outputs": [],
   "source": [
    "categorical = ['PU_DO'] #'PULocationID', 'DOLocationID']\n",
    "numerical = ['trip_distance']\n",
    "\n",
    "dv = DictVectorizer()\n",
    "\n",
    "train_dicts = df_train[categorical + numerical].to_dict(orient='records')\n",
    "X_train = dv.fit_transform(train_dicts)\n",
    "\n",
    "val_dicts = df_val[categorical + numerical].to_dict(orient='records')\n",
    "X_val = dv.transform(val_dicts)"
   ]
  },
  {
   "cell_type": "code",
   "execution_count": 7,
   "metadata": {},
   "outputs": [],
   "source": [
    "target = 'duration'\n",
    "y_train = df_train[target].values\n",
    "y_val = df_val[target].values"
   ]
  },
  {
   "cell_type": "code",
   "execution_count": 8,
   "metadata": {},
   "outputs": [
    {
     "name": "stderr",
     "output_type": "stream",
     "text": [
      "2023/04/06 05:29:43 INFO mlflow.store.db.utils: Creating initial MLflow database tables...\n",
      "2023/04/06 05:29:43 INFO mlflow.store.db.utils: Updating database tables\n",
      "INFO  [alembic.runtime.migration] Context impl SQLiteImpl.\n",
      "INFO  [alembic.runtime.migration] Will assume non-transactional DDL.\n",
      "INFO  [alembic.runtime.migration] Context impl SQLiteImpl.\n",
      "INFO  [alembic.runtime.migration] Will assume non-transactional DDL.\n"
     ]
    },
    {
     "data": {
      "text/plain": [
       "<Experiment: artifact_location='/home/bcthakreda/mlops_zoomcamp/Machine-Learning-ZoomCamp/week2/mlruns/2', creation_time=1679093170978, experiment_id='2', last_update_time=1679093170978, lifecycle_stage='active', name='nyc-taxi-exp-2', tags={}>"
      ]
     },
     "execution_count": 8,
     "metadata": {},
     "output_type": "execute_result"
    }
   ],
   "source": [
    "import mlflow\n",
    "mlflow.set_tracking_uri(\"sqlite:///mlflow.db\")\n",
    "mlflow.set_experiment(\"nyc-taxi-exp-2\")"
   ]
  },
  {
   "cell_type": "code",
   "execution_count": 11,
   "metadata": {},
   "outputs": [],
   "source": [
    "import mlflow\n",
    "from sklearn.linear_model import Lasso\n",
    "from sklearn.metrics import mean_squared_error\n",
    "from joblib import dump, load\n",
    "import tempfile\n",
    "import os\n",
    "\n",
    "models_dir = \"models\"\n",
    "if not os.path.exists(models_dir):\n",
    "    os.makedirs(models_dir)\n",
    "\n",
    "with mlflow.start_run(description=\"Adding Artifact as test\"):\n",
    "\n",
    "    mlflow.set_tag(\"developer\", \"bt\")\n",
    "    mlflow.set_tag(\"model\", \"Lasso\")\n",
    "    mlflow.set_tag(\"date\", \"2023-04-04\")\n",
    "\n",
    "    mlflow.log_param(\"train data\", \"/home/bcthakreda/mlops_zoomcamp/Machine-Learning-ZoomCamp/week1/data/yellow_tripdata_2021-01.parquet\")\n",
    "    mlflow.log_param(\"test data\", \"/home/bcthakreda/mlops_zoomcamp/Machine-Learning-ZoomCamp/week1/data/yellow_tripdata_2021-02.parquet\")\n",
    "\n",
    "    alpha = 1\n",
    "\n",
    "    mlflow.log_param(\"alpha\", alpha)\n",
    "\n",
    "    lasso = Lasso(alpha=alpha)\n",
    "    lasso.fit(X_train, y_train)\n",
    "\n",
    "    y_pred = lasso.predict(X_val)\n",
    "\n",
    "    rmse = mean_squared_error(y_val, y_pred, squared=False)\n",
    "\n",
    "    mlflow.log_metric(\"rmse\", rmse)\n",
    "\n",
    "    model_path = os.path.join(models_dir, \"lasso_reg.bin\")\n",
    "\n",
    "    dump(lasso, model_path)\n",
    "\n",
    "    mlflow.log_artifact(local_path=model_path, artifact_path=\"models_pickle\")\n",
    "\n",
    "    # # Save the model to a temporary file\n",
    "    # with tempfile.NamedTemporaryFile(suffix=\".bin\", delete=False) as temp_file:\n",
    "    #     dump(lasso, temp_file.name)\n",
    "    #     temp_file.flush()\n",
    "\n",
    "    #     # Log the temporary model file as an artifact\n",
    "    #     mlflow.log_artifact(local_path=temp_file.name, artifact_path=\"models_pickle\")\n",
    "\n",
    "    # # Remove the temporary file after logging the artifact\n",
    "    # os.remove(temp_file.name)\n"
   ]
  },
  {
   "cell_type": "code",
   "execution_count": 12,
   "metadata": {},
   "outputs": [],
   "source": [
    "import xgboost as xgb\n",
    "\n",
    "from hyperopt import fmin, tpe, hp, STATUS_OK, Trials\n",
    "from hyperopt.pyll import scope"
   ]
  },
  {
   "cell_type": "code",
   "execution_count": 13,
   "metadata": {},
   "outputs": [],
   "source": [
    "train = xgb.DMatrix(X_train, label=y_train)\n",
    "valid = xgb.DMatrix(X_val,label=y_val)"
   ]
  },
  {
   "cell_type": "code",
   "execution_count": null,
   "metadata": {},
   "outputs": [],
   "source": [
    "# disable auto logging\n",
    "\n",
    "mlflow.xgboost.autolog(disable=True)"
   ]
  },
  {
   "cell_type": "code",
   "execution_count": 14,
   "metadata": {},
   "outputs": [
    {
     "name": "stdout",
     "output_type": "stream",
     "text": [
      "[05:43:10] WARNING: ../src/objective/regression_obj.cu:213: reg:linear is now deprecated in favor of reg:squarederror.\n",
      "[0]\tvalidation-rmse:13.86096\n",
      "[1]\tvalidation-rmse:12.79159\n",
      "[2]\tvalidation-rmse:11.83738\n",
      "[3]\tvalidation-rmse:10.98736\n",
      "[4]\tvalidation-rmse:10.23152\n",
      "[5]\tvalidation-rmse:9.56160\n",
      "[6]\tvalidation-rmse:8.96850\n",
      "[7]\tvalidation-rmse:8.44406\n",
      "[8]\tvalidation-rmse:7.98356\n",
      "[9]\tvalidation-rmse:7.57911\n",
      "[10]\tvalidation-rmse:7.22464\n",
      "[11]\tvalidation-rmse:6.91362\n",
      "[12]\tvalidation-rmse:6.64348\n",
      "[13]\tvalidation-rmse:6.40751\n",
      "[14]\tvalidation-rmse:6.20301\n",
      "[15]\tvalidation-rmse:6.02508\n",
      "[16]\tvalidation-rmse:5.87054\n",
      "[17]\tvalidation-rmse:5.73678\n",
      "[18]\tvalidation-rmse:5.62063\n",
      "[19]\tvalidation-rmse:5.51928\n",
      "[20]\tvalidation-rmse:5.43078\n",
      "[21]\tvalidation-rmse:5.35459\n",
      "[22]\tvalidation-rmse:5.28745\n",
      "[23]\tvalidation-rmse:5.22920\n",
      "[24]\tvalidation-rmse:5.17871\n",
      "[25]\tvalidation-rmse:5.13435\n",
      "[26]\tvalidation-rmse:5.09492\n",
      "[27]\tvalidation-rmse:5.06000\n",
      "[28]\tvalidation-rmse:5.02791\n",
      "[29]\tvalidation-rmse:5.00061\n",
      "[30]\tvalidation-rmse:4.97598\n",
      "[31]\tvalidation-rmse:4.95385\n",
      "[32]\tvalidation-rmse:4.93338\n",
      "[33]\tvalidation-rmse:4.91542\n",
      "[34]\tvalidation-rmse:4.89876\n",
      "[35]\tvalidation-rmse:4.88461\n",
      "[36]\tvalidation-rmse:4.87086\n",
      "[37]\tvalidation-rmse:4.85915\n",
      "[38]\tvalidation-rmse:4.84755\n",
      "[39]\tvalidation-rmse:4.83739\n",
      "[40]\tvalidation-rmse:4.82783\n",
      "[41]\tvalidation-rmse:4.81957\n",
      "[42]\tvalidation-rmse:4.81175\n",
      "[43]\tvalidation-rmse:4.80330\n",
      "[44]\tvalidation-rmse:4.79657\n",
      "[45]\tvalidation-rmse:4.78943\n",
      "[46]\tvalidation-rmse:4.78419\n",
      "[47]\tvalidation-rmse:4.77826\n",
      "[48]\tvalidation-rmse:4.77317\n",
      "[49]\tvalidation-rmse:4.76818\n",
      "[50]\tvalidation-rmse:4.76344\n",
      "[51]\tvalidation-rmse:4.75942\n",
      "[52]\tvalidation-rmse:4.75568\n",
      "[53]\tvalidation-rmse:4.75159\n",
      "[54]\tvalidation-rmse:4.74759\n",
      "[55]\tvalidation-rmse:4.74473\n",
      "[56]\tvalidation-rmse:4.74133\n",
      "[57]\tvalidation-rmse:4.73845\n",
      "[58]\tvalidation-rmse:4.73562\n",
      "[59]\tvalidation-rmse:4.73264\n",
      "[60]\tvalidation-rmse:4.73013\n",
      "[61]\tvalidation-rmse:4.72790\n",
      "[62]\tvalidation-rmse:4.72524\n",
      "[63]\tvalidation-rmse:4.72252\n",
      "[64]\tvalidation-rmse:4.72048\n",
      "[65]\tvalidation-rmse:4.71841\n",
      "[66]\tvalidation-rmse:4.71686\n",
      "[67]\tvalidation-rmse:4.71505\n",
      "[68]\tvalidation-rmse:4.71345\n",
      "[69]\tvalidation-rmse:4.71175\n",
      "[70]\tvalidation-rmse:4.71017\n",
      "[71]\tvalidation-rmse:4.70852\n",
      "[72]\tvalidation-rmse:4.70680\n",
      "[73]\tvalidation-rmse:4.70552\n",
      "[74]\tvalidation-rmse:4.70408\n",
      "[75]\tvalidation-rmse:4.70259\n",
      "[76]\tvalidation-rmse:4.70090\n",
      "[77]\tvalidation-rmse:4.69948\n",
      "[78]\tvalidation-rmse:4.69823\n",
      "[79]\tvalidation-rmse:4.69712\n",
      "[80]\tvalidation-rmse:4.69590\n",
      "[81]\tvalidation-rmse:4.69489\n",
      "[82]\tvalidation-rmse:4.69330\n",
      "[83]\tvalidation-rmse:4.69239\n",
      "[84]\tvalidation-rmse:4.69120\n",
      "[85]\tvalidation-rmse:4.69013\n",
      "[86]\tvalidation-rmse:4.68910\n",
      "[87]\tvalidation-rmse:4.68805\n",
      "[88]\tvalidation-rmse:4.68702\n",
      "[89]\tvalidation-rmse:4.68607\n",
      "[90]\tvalidation-rmse:4.68497\n",
      "[91]\tvalidation-rmse:4.68396\n",
      "[92]\tvalidation-rmse:4.68308\n",
      "[93]\tvalidation-rmse:4.68216\n",
      "[94]\tvalidation-rmse:4.68116\n",
      "[95]\tvalidation-rmse:4.68008\n",
      "[96]\tvalidation-rmse:4.67909\n",
      "[97]\tvalidation-rmse:4.67803\n",
      "[98]\tvalidation-rmse:4.67708\n",
      "[99]\tvalidation-rmse:4.67578\n",
      "[100]\tvalidation-rmse:4.67506\n",
      "[101]\tvalidation-rmse:4.67412\n",
      "[102]\tvalidation-rmse:4.67348\n",
      "[103]\tvalidation-rmse:4.67211\n",
      "[104]\tvalidation-rmse:4.67130\n",
      "[105]\tvalidation-rmse:4.67056\n",
      "[106]\tvalidation-rmse:4.66991\n",
      "[107]\tvalidation-rmse:4.66907\n",
      "[108]\tvalidation-rmse:4.66779\n",
      "[109]\tvalidation-rmse:4.66699\n",
      "[110]\tvalidation-rmse:4.66620\n",
      "[111]\tvalidation-rmse:4.66549\n",
      "[112]\tvalidation-rmse:4.66471\n",
      "[113]\tvalidation-rmse:4.66392\n",
      "[114]\tvalidation-rmse:4.66315\n",
      "[115]\tvalidation-rmse:4.66248\n",
      "[116]\tvalidation-rmse:4.66193\n",
      "[117]\tvalidation-rmse:4.66115\n",
      "[118]\tvalidation-rmse:4.66025\n",
      "[119]\tvalidation-rmse:4.65957\n",
      "[120]\tvalidation-rmse:4.65872\n",
      "[121]\tvalidation-rmse:4.65757\n",
      "[122]\tvalidation-rmse:4.65699\n",
      "[123]\tvalidation-rmse:4.65610\n",
      "[124]\tvalidation-rmse:4.65541\n",
      "[125]\tvalidation-rmse:4.65461\n",
      "[126]\tvalidation-rmse:4.65392\n",
      "[127]\tvalidation-rmse:4.65316\n",
      "[128]\tvalidation-rmse:4.65230\n",
      "[129]\tvalidation-rmse:4.65119\n",
      "[130]\tvalidation-rmse:4.65018\n",
      "[131]\tvalidation-rmse:4.64959\n",
      "[132]\tvalidation-rmse:4.64901\n",
      "[133]\tvalidation-rmse:4.64832\n",
      "[134]\tvalidation-rmse:4.64781\n",
      "[135]\tvalidation-rmse:4.64703\n",
      "[136]\tvalidation-rmse:4.64637\n",
      "[137]\tvalidation-rmse:4.64594\n",
      "[138]\tvalidation-rmse:4.64503\n",
      "[139]\tvalidation-rmse:4.64446\n",
      "[140]\tvalidation-rmse:4.64390\n",
      "[141]\tvalidation-rmse:4.64337\n",
      "[142]\tvalidation-rmse:4.64261\n",
      "[143]\tvalidation-rmse:4.64211\n",
      "[144]\tvalidation-rmse:4.64146\n",
      "[145]\tvalidation-rmse:4.64055\n",
      "[146]\tvalidation-rmse:4.64004\n",
      "[147]\tvalidation-rmse:4.63957\n",
      "[148]\tvalidation-rmse:4.63905\n",
      "[149]\tvalidation-rmse:4.63836\n",
      "[150]\tvalidation-rmse:4.63793\n",
      "[151]\tvalidation-rmse:4.63729\n",
      "[152]\tvalidation-rmse:4.63680\n",
      "[153]\tvalidation-rmse:4.63621\n",
      "[154]\tvalidation-rmse:4.63569\n",
      "[155]\tvalidation-rmse:4.63484\n",
      "[156]\tvalidation-rmse:4.63441\n",
      "[157]\tvalidation-rmse:4.63397\n",
      "[158]\tvalidation-rmse:4.63352\n",
      "[159]\tvalidation-rmse:4.63290\n",
      "[160]\tvalidation-rmse:4.63248\n",
      "[161]\tvalidation-rmse:4.63174\n",
      "[162]\tvalidation-rmse:4.63119\n",
      "[163]\tvalidation-rmse:4.63048\n",
      "[164]\tvalidation-rmse:4.62989\n",
      "[165]\tvalidation-rmse:4.62912\n",
      "[166]\tvalidation-rmse:4.62868\n",
      "[167]\tvalidation-rmse:4.62821\n",
      "[168]\tvalidation-rmse:4.62771\n",
      "[169]\tvalidation-rmse:4.62708\n",
      "[170]\tvalidation-rmse:4.62629\n",
      "[171]\tvalidation-rmse:4.62562\n",
      "[172]\tvalidation-rmse:4.62502\n",
      "[173]\tvalidation-rmse:4.62438\n",
      "[174]\tvalidation-rmse:4.62391\n",
      "[175]\tvalidation-rmse:4.62339\n",
      "[176]\tvalidation-rmse:4.62294\n",
      "[177]\tvalidation-rmse:4.62225\n",
      "[178]\tvalidation-rmse:4.62146\n",
      "[179]\tvalidation-rmse:4.62103\n",
      "[180]\tvalidation-rmse:4.62063\n",
      "[181]\tvalidation-rmse:4.62020\n",
      "[182]\tvalidation-rmse:4.61974\n",
      "[183]\tvalidation-rmse:4.61932\n",
      "[184]\tvalidation-rmse:4.61898\n",
      "[185]\tvalidation-rmse:4.61868\n",
      "[186]\tvalidation-rmse:4.61820\n",
      "[187]\tvalidation-rmse:4.61763\n",
      "[188]\tvalidation-rmse:4.61719\n",
      "[189]\tvalidation-rmse:4.61673\n",
      "[190]\tvalidation-rmse:4.61630\n",
      "[191]\tvalidation-rmse:4.61571\n",
      "[192]\tvalidation-rmse:4.61542\n",
      "[193]\tvalidation-rmse:4.61500\n",
      "[194]\tvalidation-rmse:4.61458\n",
      "[195]\tvalidation-rmse:4.61400\n",
      "[196]\tvalidation-rmse:4.61368\n",
      "[197]\tvalidation-rmse:4.61315\n",
      "[198]\tvalidation-rmse:4.61282\n",
      "[199]\tvalidation-rmse:4.61227\n",
      "[200]\tvalidation-rmse:4.61151\n",
      "[201]\tvalidation-rmse:4.61121\n",
      "[202]\tvalidation-rmse:4.61078\n",
      "[203]\tvalidation-rmse:4.61037\n",
      "[204]\tvalidation-rmse:4.60981\n",
      "[205]\tvalidation-rmse:4.60939\n",
      "[206]\tvalidation-rmse:4.60873\n",
      "[207]\tvalidation-rmse:4.60849\n",
      "[208]\tvalidation-rmse:4.60809\n",
      "[209]\tvalidation-rmse:4.60771\n",
      "[210]\tvalidation-rmse:4.60733\n",
      "[211]\tvalidation-rmse:4.60688\n",
      "[212]\tvalidation-rmse:4.60648\n",
      "[213]\tvalidation-rmse:4.60596\n",
      "[214]\tvalidation-rmse:4.60538\n",
      "[215]\tvalidation-rmse:4.60504\n",
      "[216]\tvalidation-rmse:4.60442\n"
     ]
    }
   ],
   "source": [
    "with mlflow.start_run(description=\"Saving the model with mlflow utility\"):\n",
    "\n",
    "    best_params =  {\n",
    "        'learning_rate' : 0.0958,\n",
    "        'max_depth' : 30,\n",
    "        'min_child_weight' : 1.065,\n",
    "        'objective' : 'reg:linear',\n",
    "        'reg_alpha' : 0.018,\n",
    "        'reg_lambda' : 0.011,\n",
    "        'seed' : 42\n",
    "    }\n",
    "\n",
    "    mlflow.log_params(best_params)\n",
    "\n",
    "    booster = xgb.train(\n",
    "        params=best_params,\n",
    "        dtrain=train,\n",
    "        num_boost_round=1000,\n",
    "        evals=[(valid,'validation')],\n",
    "        early_stopping_rounds=50\n",
    "    )\n",
    "\n",
    "    y_pred = booster.predict(valid)\n",
    "\n",
    "    rmse = mean_squared_error(y_val,y_pred,squared=False)\n",
    "    mlflow.log_metric('rmse',rmse)\n",
    "\n",
    "    with open('models/preprocessor.b','wb') as f_out:\n",
    "        pickle.dump(dv,f_out)\n",
    "\n",
    "    mlflow.log_artifact(\"models/preprocessor.b\",artifact_path=\"preprocessor\")\n",
    "\n",
    "    mlflow.xgboost.log_model(booster,artifact_path=\"models_pickle\")"
   ]
  },
  {
   "cell_type": "code",
   "execution_count": 11,
   "metadata": {},
   "outputs": [],
   "source": []
  },
  {
   "cell_type": "code",
   "execution_count": 12,
   "metadata": {},
   "outputs": [],
   "source": []
  },
  {
   "cell_type": "code",
   "execution_count": null,
   "metadata": {},
   "outputs": [],
   "source": []
  },
  {
   "attachments": {},
   "cell_type": "markdown",
   "metadata": {},
   "source": [
    "Define Objective Function"
   ]
  },
  {
   "cell_type": "code",
   "execution_count": 22,
   "metadata": {},
   "outputs": [],
   "source": [
    "def objective(params):\n",
    "    with mlflow.start_run():\n",
    "        mlflow.set_tag('model','xgboost')\n",
    "        mlflow.log_params(params)\n",
    "        booster = xgb.train(\n",
    "            params=params,\n",
    "            dtrain=train,\n",
    "            num_boost_round=1000,\n",
    "            evals=[(valid,'validation')],\n",
    "            early_stopping_rounds=50\n",
    "        )\n",
    "        y_pred = booster.predict(valid)\n",
    "        rmse = mean_squared_error(y_val,y_pred,squared=False)\n",
    "        mlflow.log_metric(\"rmse\",rmse)\n",
    "        mlflow.log_artifact(local_path='models/lin_reg.bin',artifact_path='models_pickle/')\n",
    "    return {'loss': rmse, 'status': STATUS_OK}"
   ]
  },
  {
   "attachments": {},
   "cell_type": "markdown",
   "metadata": {},
   "source": [
    "Define Search Space"
   ]
  },
  {
   "cell_type": "code",
   "execution_count": 23,
   "metadata": {},
   "outputs": [],
   "source": [
    "search_space = {\n",
    "    'max_depth': scope.int(hp.quniform('max_depth',4,100,1)),\n",
    "    'learning_rate' : hp.loguniform('learning_rate',-3,0),\n",
    "    'reg_alpha' : hp.loguniform('reg_alpha',-5,-1),\n",
    "    'reg_lambda' : hp.loguniform('reg_lambda',-6,-1),\n",
    "    'min_child_weight': hp.loguniform('min_child_weight',-1,3),\n",
    "    'objective':'reg:linear',\n",
    "    'seed': 43\n",
    "}"
   ]
  },
  {
   "cell_type": "code",
   "execution_count": 24,
   "metadata": {},
   "outputs": [
    {
     "name": "stdout",
     "output_type": "stream",
     "text": [
      "  0%|          | 0/50 [00:00<?, ?trial/s, best loss=?]"
     ]
    },
    {
     "name": "stderr",
     "output_type": "stream",
     "text": [
      "ERROR [hyperopt.fmin] job exception: name 'train' is not defined\n"
     ]
    },
    {
     "name": "stdout",
     "output_type": "stream",
     "text": [
      "  0%|          | 0/50 [00:00<?, ?trial/s, best loss=?]\n"
     ]
    },
    {
     "ename": "NameError",
     "evalue": "name 'train' is not defined",
     "output_type": "error",
     "traceback": [
      "\u001b[0;31m---------------------------------------------------------------------------\u001b[0m",
      "\u001b[0;31mNameError\u001b[0m                                 Traceback (most recent call last)",
      "Cell \u001b[0;32mIn[24], line 1\u001b[0m\n\u001b[0;32m----> 1\u001b[0m best_result \u001b[39m=\u001b[39m fmin(\n\u001b[1;32m      2\u001b[0m     fn\u001b[39m=\u001b[39;49mobjective,\n\u001b[1;32m      3\u001b[0m     space\u001b[39m=\u001b[39;49msearch_space,\n\u001b[1;32m      4\u001b[0m     algo\u001b[39m=\u001b[39;49mtpe\u001b[39m.\u001b[39;49msuggest,\n\u001b[1;32m      5\u001b[0m     max_evals\u001b[39m=\u001b[39;49m\u001b[39m50\u001b[39;49m,\n\u001b[1;32m      6\u001b[0m     trials\u001b[39m=\u001b[39;49mTrials()\n\u001b[1;32m      7\u001b[0m )\n",
      "File \u001b[0;32m~/anaconda3/envs/experiment-tracking/lib/python3.9/site-packages/hyperopt/fmin.py:540\u001b[0m, in \u001b[0;36mfmin\u001b[0;34m(fn, space, algo, max_evals, timeout, loss_threshold, trials, rstate, allow_trials_fmin, pass_expr_memo_ctrl, catch_eval_exceptions, verbose, return_argmin, points_to_evaluate, max_queue_len, show_progressbar, early_stop_fn, trials_save_file)\u001b[0m\n\u001b[1;32m    537\u001b[0m     fn \u001b[39m=\u001b[39m __objective_fmin_wrapper(fn)\n\u001b[1;32m    539\u001b[0m \u001b[39mif\u001b[39;00m allow_trials_fmin \u001b[39mand\u001b[39;00m \u001b[39mhasattr\u001b[39m(trials, \u001b[39m\"\u001b[39m\u001b[39mfmin\u001b[39m\u001b[39m\"\u001b[39m):\n\u001b[0;32m--> 540\u001b[0m     \u001b[39mreturn\u001b[39;00m trials\u001b[39m.\u001b[39;49mfmin(\n\u001b[1;32m    541\u001b[0m         fn,\n\u001b[1;32m    542\u001b[0m         space,\n\u001b[1;32m    543\u001b[0m         algo\u001b[39m=\u001b[39;49malgo,\n\u001b[1;32m    544\u001b[0m         max_evals\u001b[39m=\u001b[39;49mmax_evals,\n\u001b[1;32m    545\u001b[0m         timeout\u001b[39m=\u001b[39;49mtimeout,\n\u001b[1;32m    546\u001b[0m         loss_threshold\u001b[39m=\u001b[39;49mloss_threshold,\n\u001b[1;32m    547\u001b[0m         max_queue_len\u001b[39m=\u001b[39;49mmax_queue_len,\n\u001b[1;32m    548\u001b[0m         rstate\u001b[39m=\u001b[39;49mrstate,\n\u001b[1;32m    549\u001b[0m         pass_expr_memo_ctrl\u001b[39m=\u001b[39;49mpass_expr_memo_ctrl,\n\u001b[1;32m    550\u001b[0m         verbose\u001b[39m=\u001b[39;49mverbose,\n\u001b[1;32m    551\u001b[0m         catch_eval_exceptions\u001b[39m=\u001b[39;49mcatch_eval_exceptions,\n\u001b[1;32m    552\u001b[0m         return_argmin\u001b[39m=\u001b[39;49mreturn_argmin,\n\u001b[1;32m    553\u001b[0m         show_progressbar\u001b[39m=\u001b[39;49mshow_progressbar,\n\u001b[1;32m    554\u001b[0m         early_stop_fn\u001b[39m=\u001b[39;49mearly_stop_fn,\n\u001b[1;32m    555\u001b[0m         trials_save_file\u001b[39m=\u001b[39;49mtrials_save_file,\n\u001b[1;32m    556\u001b[0m     )\n\u001b[1;32m    558\u001b[0m \u001b[39mif\u001b[39;00m trials \u001b[39mis\u001b[39;00m \u001b[39mNone\u001b[39;00m:\n\u001b[1;32m    559\u001b[0m     \u001b[39mif\u001b[39;00m os\u001b[39m.\u001b[39mpath\u001b[39m.\u001b[39mexists(trials_save_file):\n",
      "File \u001b[0;32m~/anaconda3/envs/experiment-tracking/lib/python3.9/site-packages/hyperopt/base.py:671\u001b[0m, in \u001b[0;36mTrials.fmin\u001b[0;34m(self, fn, space, algo, max_evals, timeout, loss_threshold, max_queue_len, rstate, verbose, pass_expr_memo_ctrl, catch_eval_exceptions, return_argmin, show_progressbar, early_stop_fn, trials_save_file)\u001b[0m\n\u001b[1;32m    666\u001b[0m \u001b[39m# -- Stop-gap implementation!\u001b[39;00m\n\u001b[1;32m    667\u001b[0m \u001b[39m#    fmin should have been a Trials method in the first place\u001b[39;00m\n\u001b[1;32m    668\u001b[0m \u001b[39m#    but for now it's still sitting in another file.\u001b[39;00m\n\u001b[1;32m    669\u001b[0m \u001b[39mfrom\u001b[39;00m \u001b[39m.\u001b[39;00m\u001b[39mfmin\u001b[39;00m \u001b[39mimport\u001b[39;00m fmin\n\u001b[0;32m--> 671\u001b[0m \u001b[39mreturn\u001b[39;00m fmin(\n\u001b[1;32m    672\u001b[0m     fn,\n\u001b[1;32m    673\u001b[0m     space,\n\u001b[1;32m    674\u001b[0m     algo\u001b[39m=\u001b[39;49malgo,\n\u001b[1;32m    675\u001b[0m     max_evals\u001b[39m=\u001b[39;49mmax_evals,\n\u001b[1;32m    676\u001b[0m     timeout\u001b[39m=\u001b[39;49mtimeout,\n\u001b[1;32m    677\u001b[0m     loss_threshold\u001b[39m=\u001b[39;49mloss_threshold,\n\u001b[1;32m    678\u001b[0m     trials\u001b[39m=\u001b[39;49m\u001b[39mself\u001b[39;49m,\n\u001b[1;32m    679\u001b[0m     rstate\u001b[39m=\u001b[39;49mrstate,\n\u001b[1;32m    680\u001b[0m     verbose\u001b[39m=\u001b[39;49mverbose,\n\u001b[1;32m    681\u001b[0m     max_queue_len\u001b[39m=\u001b[39;49mmax_queue_len,\n\u001b[1;32m    682\u001b[0m     allow_trials_fmin\u001b[39m=\u001b[39;49m\u001b[39mFalse\u001b[39;49;00m,  \u001b[39m# -- prevent recursion\u001b[39;49;00m\n\u001b[1;32m    683\u001b[0m     pass_expr_memo_ctrl\u001b[39m=\u001b[39;49mpass_expr_memo_ctrl,\n\u001b[1;32m    684\u001b[0m     catch_eval_exceptions\u001b[39m=\u001b[39;49mcatch_eval_exceptions,\n\u001b[1;32m    685\u001b[0m     return_argmin\u001b[39m=\u001b[39;49mreturn_argmin,\n\u001b[1;32m    686\u001b[0m     show_progressbar\u001b[39m=\u001b[39;49mshow_progressbar,\n\u001b[1;32m    687\u001b[0m     early_stop_fn\u001b[39m=\u001b[39;49mearly_stop_fn,\n\u001b[1;32m    688\u001b[0m     trials_save_file\u001b[39m=\u001b[39;49mtrials_save_file,\n\u001b[1;32m    689\u001b[0m )\n",
      "File \u001b[0;32m~/anaconda3/envs/experiment-tracking/lib/python3.9/site-packages/hyperopt/fmin.py:586\u001b[0m, in \u001b[0;36mfmin\u001b[0;34m(fn, space, algo, max_evals, timeout, loss_threshold, trials, rstate, allow_trials_fmin, pass_expr_memo_ctrl, catch_eval_exceptions, verbose, return_argmin, points_to_evaluate, max_queue_len, show_progressbar, early_stop_fn, trials_save_file)\u001b[0m\n\u001b[1;32m    583\u001b[0m rval\u001b[39m.\u001b[39mcatch_eval_exceptions \u001b[39m=\u001b[39m catch_eval_exceptions\n\u001b[1;32m    585\u001b[0m \u001b[39m# next line is where the fmin is actually executed\u001b[39;00m\n\u001b[0;32m--> 586\u001b[0m rval\u001b[39m.\u001b[39;49mexhaust()\n\u001b[1;32m    588\u001b[0m \u001b[39mif\u001b[39;00m return_argmin:\n\u001b[1;32m    589\u001b[0m     \u001b[39mif\u001b[39;00m \u001b[39mlen\u001b[39m(trials\u001b[39m.\u001b[39mtrials) \u001b[39m==\u001b[39m \u001b[39m0\u001b[39m:\n",
      "File \u001b[0;32m~/anaconda3/envs/experiment-tracking/lib/python3.9/site-packages/hyperopt/fmin.py:364\u001b[0m, in \u001b[0;36mFMinIter.exhaust\u001b[0;34m(self)\u001b[0m\n\u001b[1;32m    362\u001b[0m \u001b[39mdef\u001b[39;00m \u001b[39mexhaust\u001b[39m(\u001b[39mself\u001b[39m):\n\u001b[1;32m    363\u001b[0m     n_done \u001b[39m=\u001b[39m \u001b[39mlen\u001b[39m(\u001b[39mself\u001b[39m\u001b[39m.\u001b[39mtrials)\n\u001b[0;32m--> 364\u001b[0m     \u001b[39mself\u001b[39;49m\u001b[39m.\u001b[39;49mrun(\u001b[39mself\u001b[39;49m\u001b[39m.\u001b[39;49mmax_evals \u001b[39m-\u001b[39;49m n_done, block_until_done\u001b[39m=\u001b[39;49m\u001b[39mself\u001b[39;49m\u001b[39m.\u001b[39;49masynchronous)\n\u001b[1;32m    365\u001b[0m     \u001b[39mself\u001b[39m\u001b[39m.\u001b[39mtrials\u001b[39m.\u001b[39mrefresh()\n\u001b[1;32m    366\u001b[0m     \u001b[39mreturn\u001b[39;00m \u001b[39mself\u001b[39m\n",
      "File \u001b[0;32m~/anaconda3/envs/experiment-tracking/lib/python3.9/site-packages/hyperopt/fmin.py:300\u001b[0m, in \u001b[0;36mFMinIter.run\u001b[0;34m(self, N, block_until_done)\u001b[0m\n\u001b[1;32m    297\u001b[0m     time\u001b[39m.\u001b[39msleep(\u001b[39mself\u001b[39m\u001b[39m.\u001b[39mpoll_interval_secs)\n\u001b[1;32m    298\u001b[0m \u001b[39melse\u001b[39;00m:\n\u001b[1;32m    299\u001b[0m     \u001b[39m# -- loop over trials and do the jobs directly\u001b[39;00m\n\u001b[0;32m--> 300\u001b[0m     \u001b[39mself\u001b[39;49m\u001b[39m.\u001b[39;49mserial_evaluate()\n\u001b[1;32m    302\u001b[0m \u001b[39mself\u001b[39m\u001b[39m.\u001b[39mtrials\u001b[39m.\u001b[39mrefresh()\n\u001b[1;32m    303\u001b[0m \u001b[39mif\u001b[39;00m \u001b[39mself\u001b[39m\u001b[39m.\u001b[39mtrials_save_file \u001b[39m!=\u001b[39m \u001b[39m\"\u001b[39m\u001b[39m\"\u001b[39m:\n",
      "File \u001b[0;32m~/anaconda3/envs/experiment-tracking/lib/python3.9/site-packages/hyperopt/fmin.py:178\u001b[0m, in \u001b[0;36mFMinIter.serial_evaluate\u001b[0;34m(self, N)\u001b[0m\n\u001b[1;32m    176\u001b[0m ctrl \u001b[39m=\u001b[39m base\u001b[39m.\u001b[39mCtrl(\u001b[39mself\u001b[39m\u001b[39m.\u001b[39mtrials, current_trial\u001b[39m=\u001b[39mtrial)\n\u001b[1;32m    177\u001b[0m \u001b[39mtry\u001b[39;00m:\n\u001b[0;32m--> 178\u001b[0m     result \u001b[39m=\u001b[39m \u001b[39mself\u001b[39;49m\u001b[39m.\u001b[39;49mdomain\u001b[39m.\u001b[39;49mevaluate(spec, ctrl)\n\u001b[1;32m    179\u001b[0m \u001b[39mexcept\u001b[39;00m \u001b[39mException\u001b[39;00m \u001b[39mas\u001b[39;00m e:\n\u001b[1;32m    180\u001b[0m     logger\u001b[39m.\u001b[39merror(\u001b[39m\"\u001b[39m\u001b[39mjob exception: \u001b[39m\u001b[39m%s\u001b[39;00m\u001b[39m\"\u001b[39m \u001b[39m%\u001b[39m \u001b[39mstr\u001b[39m(e))\n",
      "File \u001b[0;32m~/anaconda3/envs/experiment-tracking/lib/python3.9/site-packages/hyperopt/base.py:892\u001b[0m, in \u001b[0;36mDomain.evaluate\u001b[0;34m(self, config, ctrl, attach_attachments)\u001b[0m\n\u001b[1;32m    883\u001b[0m \u001b[39melse\u001b[39;00m:\n\u001b[1;32m    884\u001b[0m     \u001b[39m# -- the \"work\" of evaluating `config` can be written\u001b[39;00m\n\u001b[1;32m    885\u001b[0m     \u001b[39m#    either into the pyll part (self.expr)\u001b[39;00m\n\u001b[1;32m    886\u001b[0m     \u001b[39m#    or the normal Python part (self.fn)\u001b[39;00m\n\u001b[1;32m    887\u001b[0m     pyll_rval \u001b[39m=\u001b[39m pyll\u001b[39m.\u001b[39mrec_eval(\n\u001b[1;32m    888\u001b[0m         \u001b[39mself\u001b[39m\u001b[39m.\u001b[39mexpr,\n\u001b[1;32m    889\u001b[0m         memo\u001b[39m=\u001b[39mmemo,\n\u001b[1;32m    890\u001b[0m         print_node_on_error\u001b[39m=\u001b[39m\u001b[39mself\u001b[39m\u001b[39m.\u001b[39mrec_eval_print_node_on_error,\n\u001b[1;32m    891\u001b[0m     )\n\u001b[0;32m--> 892\u001b[0m     rval \u001b[39m=\u001b[39m \u001b[39mself\u001b[39;49m\u001b[39m.\u001b[39;49mfn(pyll_rval)\n\u001b[1;32m    894\u001b[0m \u001b[39mif\u001b[39;00m \u001b[39misinstance\u001b[39m(rval, (\u001b[39mfloat\u001b[39m, \u001b[39mint\u001b[39m, np\u001b[39m.\u001b[39mnumber)):\n\u001b[1;32m    895\u001b[0m     dict_rval \u001b[39m=\u001b[39m {\u001b[39m\"\u001b[39m\u001b[39mloss\u001b[39m\u001b[39m\"\u001b[39m: \u001b[39mfloat\u001b[39m(rval), \u001b[39m\"\u001b[39m\u001b[39mstatus\u001b[39m\u001b[39m\"\u001b[39m: STATUS_OK}\n",
      "Cell \u001b[0;32mIn[22], line 7\u001b[0m, in \u001b[0;36mobjective\u001b[0;34m(params)\u001b[0m\n\u001b[1;32m      3\u001b[0m mlflow\u001b[39m.\u001b[39mset_tag(\u001b[39m'\u001b[39m\u001b[39mmodel\u001b[39m\u001b[39m'\u001b[39m,\u001b[39m'\u001b[39m\u001b[39mxgboost\u001b[39m\u001b[39m'\u001b[39m)\n\u001b[1;32m      4\u001b[0m mlflow\u001b[39m.\u001b[39mlog_params(params)\n\u001b[1;32m      5\u001b[0m booster \u001b[39m=\u001b[39m xgb\u001b[39m.\u001b[39mtrain(\n\u001b[1;32m      6\u001b[0m     params\u001b[39m=\u001b[39mparams,\n\u001b[0;32m----> 7\u001b[0m     dtrain\u001b[39m=\u001b[39mtrain,\n\u001b[1;32m      8\u001b[0m     num_boost_round\u001b[39m=\u001b[39m\u001b[39m1000\u001b[39m,\n\u001b[1;32m      9\u001b[0m     evals\u001b[39m=\u001b[39m[(valid,\u001b[39m'\u001b[39m\u001b[39mvalidation\u001b[39m\u001b[39m'\u001b[39m)],\n\u001b[1;32m     10\u001b[0m     early_stopping_rounds\u001b[39m=\u001b[39m\u001b[39m50\u001b[39m\n\u001b[1;32m     11\u001b[0m )\n\u001b[1;32m     12\u001b[0m y_pred \u001b[39m=\u001b[39m booster\u001b[39m.\u001b[39mpredict(valid)\n\u001b[1;32m     13\u001b[0m rmse \u001b[39m=\u001b[39m mean_squared_error(y_val,y_pred,squared\u001b[39m=\u001b[39m\u001b[39mFalse\u001b[39;00m)\n",
      "\u001b[0;31mNameError\u001b[0m: name 'train' is not defined"
     ]
    }
   ],
   "source": [
    "best_result = fmin(\n",
    "    fn=objective,\n",
    "    space=search_space,\n",
    "    algo=tpe.suggest,\n",
    "    max_evals=50,\n",
    "    trials=Trials()\n",
    ")"
   ]
  },
  {
   "cell_type": "code",
   "execution_count": null,
   "metadata": {},
   "outputs": [],
   "source": []
  }
 ],
 "metadata": {
  "kernelspec": {
   "display_name": "base",
   "language": "python",
   "name": "python3"
  },
  "language_info": {
   "codemirror_mode": {
    "name": "ipython",
    "version": 3
   },
   "file_extension": ".py",
   "mimetype": "text/x-python",
   "name": "python",
   "nbconvert_exporter": "python",
   "pygments_lexer": "ipython3",
   "version": "3.9.16"
  },
  "orig_nbformat": 4
 },
 "nbformat": 4,
 "nbformat_minor": 2
}
